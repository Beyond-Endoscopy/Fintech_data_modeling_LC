{
 "cells": [
  {
   "cell_type": "code",
   "execution_count": 1,
   "metadata": {},
   "outputs": [],
   "source": [
    "import numpy as np\n",
    "import pandas as pd"
   ]
  },
  {
   "cell_type": "code",
   "execution_count": 2,
   "metadata": {},
   "outputs": [
    {
     "name": "stderr",
     "output_type": "stream",
     "text": [
      "/Users/haoli/opt/anaconda3/lib/python3.7/site-packages/IPython/core/interactiveshell.py:3063: DtypeWarning: Columns (18,58) have mixed types.Specify dtype option on import or set low_memory=False.\n",
      "  interactivity=interactivity, compiler=compiler, result=result)\n"
     ]
    }
   ],
   "source": [
    "df = pd.read_csv('df_36.csv')"
   ]
  },
  {
   "cell_type": "code",
   "execution_count": 3,
   "metadata": {},
   "outputs": [
    {
     "data": {
      "text/html": [
       "<div>\n",
       "<style scoped>\n",
       "    .dataframe tbody tr th:only-of-type {\n",
       "        vertical-align: middle;\n",
       "    }\n",
       "\n",
       "    .dataframe tbody tr th {\n",
       "        vertical-align: top;\n",
       "    }\n",
       "\n",
       "    .dataframe thead th {\n",
       "        text-align: right;\n",
       "    }\n",
       "</style>\n",
       "<table border=\"1\" class=\"dataframe\">\n",
       "  <thead>\n",
       "    <tr style=\"text-align: right;\">\n",
       "      <th></th>\n",
       "      <th>id</th>\n",
       "      <th>member_id</th>\n",
       "      <th>loan_amnt</th>\n",
       "      <th>funded_amnt</th>\n",
       "      <th>funded_amnt_inv</th>\n",
       "      <th>int_rate</th>\n",
       "      <th>installment</th>\n",
       "      <th>grade</th>\n",
       "      <th>sub_grade</th>\n",
       "      <th>emp_title</th>\n",
       "      <th>...</th>\n",
       "      <th>orig_projected_additional_accrued_interest</th>\n",
       "      <th>hardship_payoff_balance_amount</th>\n",
       "      <th>hardship_last_payment_amount</th>\n",
       "      <th>debt_settlement_flag</th>\n",
       "      <th>debt_settlement_flag_date</th>\n",
       "      <th>settlement_status</th>\n",
       "      <th>settlement_date</th>\n",
       "      <th>settlement_amount</th>\n",
       "      <th>settlement_percentage</th>\n",
       "      <th>settlement_term</th>\n",
       "    </tr>\n",
       "  </thead>\n",
       "  <tbody>\n",
       "    <tr>\n",
       "      <th>0</th>\n",
       "      <td>75710736</td>\n",
       "      <td>NaN</td>\n",
       "      <td>12800.0</td>\n",
       "      <td>12800.0</td>\n",
       "      <td>12800.0</td>\n",
       "      <td>11.99%</td>\n",
       "      <td>425.09</td>\n",
       "      <td>C</td>\n",
       "      <td>C1</td>\n",
       "      <td>LOGISTICS COORDINATOR</td>\n",
       "      <td>...</td>\n",
       "      <td>NaN</td>\n",
       "      <td>NaN</td>\n",
       "      <td>NaN</td>\n",
       "      <td>N</td>\n",
       "      <td>NaN</td>\n",
       "      <td>NaN</td>\n",
       "      <td>NaN</td>\n",
       "      <td>NaN</td>\n",
       "      <td>NaN</td>\n",
       "      <td>NaN</td>\n",
       "    </tr>\n",
       "    <tr>\n",
       "      <th>1</th>\n",
       "      <td>76143686</td>\n",
       "      <td>NaN</td>\n",
       "      <td>9000.0</td>\n",
       "      <td>9000.0</td>\n",
       "      <td>9000.0</td>\n",
       "      <td>15.31%</td>\n",
       "      <td>313.36</td>\n",
       "      <td>C</td>\n",
       "      <td>C5</td>\n",
       "      <td>Senior Case Assistant</td>\n",
       "      <td>...</td>\n",
       "      <td>NaN</td>\n",
       "      <td>NaN</td>\n",
       "      <td>NaN</td>\n",
       "      <td>N</td>\n",
       "      <td>NaN</td>\n",
       "      <td>NaN</td>\n",
       "      <td>NaN</td>\n",
       "      <td>NaN</td>\n",
       "      <td>NaN</td>\n",
       "      <td>NaN</td>\n",
       "    </tr>\n",
       "    <tr>\n",
       "      <th>2</th>\n",
       "      <td>76143234</td>\n",
       "      <td>NaN</td>\n",
       "      <td>8000.0</td>\n",
       "      <td>8000.0</td>\n",
       "      <td>8000.0</td>\n",
       "      <td>10.75%</td>\n",
       "      <td>260.97</td>\n",
       "      <td>B</td>\n",
       "      <td>B4</td>\n",
       "      <td>Vp</td>\n",
       "      <td>...</td>\n",
       "      <td>NaN</td>\n",
       "      <td>NaN</td>\n",
       "      <td>NaN</td>\n",
       "      <td>N</td>\n",
       "      <td>NaN</td>\n",
       "      <td>NaN</td>\n",
       "      <td>NaN</td>\n",
       "      <td>NaN</td>\n",
       "      <td>NaN</td>\n",
       "      <td>NaN</td>\n",
       "    </tr>\n",
       "    <tr>\n",
       "      <th>3</th>\n",
       "      <td>75943579</td>\n",
       "      <td>NaN</td>\n",
       "      <td>20000.0</td>\n",
       "      <td>20000.0</td>\n",
       "      <td>20000.0</td>\n",
       "      <td>12.99%</td>\n",
       "      <td>673.79</td>\n",
       "      <td>C</td>\n",
       "      <td>C2</td>\n",
       "      <td>Jail Administrator</td>\n",
       "      <td>...</td>\n",
       "      <td>NaN</td>\n",
       "      <td>NaN</td>\n",
       "      <td>NaN</td>\n",
       "      <td>N</td>\n",
       "      <td>NaN</td>\n",
       "      <td>NaN</td>\n",
       "      <td>NaN</td>\n",
       "      <td>NaN</td>\n",
       "      <td>NaN</td>\n",
       "      <td>NaN</td>\n",
       "    </tr>\n",
       "    <tr>\n",
       "      <th>4</th>\n",
       "      <td>75169662</td>\n",
       "      <td>NaN</td>\n",
       "      <td>6000.0</td>\n",
       "      <td>6000.0</td>\n",
       "      <td>6000.0</td>\n",
       "      <td>7.39%</td>\n",
       "      <td>186.34</td>\n",
       "      <td>A</td>\n",
       "      <td>A4</td>\n",
       "      <td>Telecom ngineer</td>\n",
       "      <td>...</td>\n",
       "      <td>NaN</td>\n",
       "      <td>NaN</td>\n",
       "      <td>NaN</td>\n",
       "      <td>N</td>\n",
       "      <td>NaN</td>\n",
       "      <td>NaN</td>\n",
       "      <td>NaN</td>\n",
       "      <td>NaN</td>\n",
       "      <td>NaN</td>\n",
       "      <td>NaN</td>\n",
       "    </tr>\n",
       "  </tbody>\n",
       "</table>\n",
       "<p>5 rows × 149 columns</p>\n",
       "</div>"
      ],
      "text/plain": [
       "         id  member_id  loan_amnt  funded_amnt  funded_amnt_inv int_rate  \\\n",
       "0  75710736        NaN    12800.0      12800.0          12800.0   11.99%   \n",
       "1  76143686        NaN     9000.0       9000.0           9000.0   15.31%   \n",
       "2  76143234        NaN     8000.0       8000.0           8000.0   10.75%   \n",
       "3  75943579        NaN    20000.0      20000.0          20000.0   12.99%   \n",
       "4  75169662        NaN     6000.0       6000.0           6000.0    7.39%   \n",
       "\n",
       "   installment grade sub_grade              emp_title  ...  \\\n",
       "0       425.09     C        C1  LOGISTICS COORDINATOR  ...   \n",
       "1       313.36     C        C5  Senior Case Assistant  ...   \n",
       "2       260.97     B        B4                     Vp  ...   \n",
       "3       673.79     C        C2     Jail Administrator  ...   \n",
       "4       186.34     A        A4        Telecom ngineer  ...   \n",
       "\n",
       "  orig_projected_additional_accrued_interest hardship_payoff_balance_amount  \\\n",
       "0                                        NaN                            NaN   \n",
       "1                                        NaN                            NaN   \n",
       "2                                        NaN                            NaN   \n",
       "3                                        NaN                            NaN   \n",
       "4                                        NaN                            NaN   \n",
       "\n",
       "   hardship_last_payment_amount debt_settlement_flag  \\\n",
       "0                           NaN                    N   \n",
       "1                           NaN                    N   \n",
       "2                           NaN                    N   \n",
       "3                           NaN                    N   \n",
       "4                           NaN                    N   \n",
       "\n",
       "  debt_settlement_flag_date settlement_status settlement_date  \\\n",
       "0                       NaN               NaN             NaN   \n",
       "1                       NaN               NaN             NaN   \n",
       "2                       NaN               NaN             NaN   \n",
       "3                       NaN               NaN             NaN   \n",
       "4                       NaN               NaN             NaN   \n",
       "\n",
       "  settlement_amount settlement_percentage settlement_term  \n",
       "0               NaN                   NaN             NaN  \n",
       "1               NaN                   NaN             NaN  \n",
       "2               NaN                   NaN             NaN  \n",
       "3               NaN                   NaN             NaN  \n",
       "4               NaN                   NaN             NaN  \n",
       "\n",
       "[5 rows x 149 columns]"
      ]
     },
     "execution_count": 3,
     "metadata": {},
     "output_type": "execute_result"
    }
   ],
   "source": [
    "df.head()"
   ]
  },
  {
   "cell_type": "code",
   "execution_count": 4,
   "metadata": {},
   "outputs": [
    {
     "data": {
      "text/plain": [
       "(288838, 149)"
      ]
     },
     "execution_count": 4,
     "metadata": {},
     "output_type": "execute_result"
    }
   ],
   "source": [
    "df.shape"
   ]
  },
  {
   "cell_type": "markdown",
   "metadata": {},
   "source": [
    "## Drop the features with too many missing values"
   ]
  },
  {
   "cell_type": "code",
   "execution_count": 5,
   "metadata": {},
   "outputs": [],
   "source": [
    "#A function getting features with high null value percentage.\n",
    "def get_null_features(df, dtype, perc = 1):\n",
    "    l = df.shape[0]\n",
    "    feats = df.columns\n",
    "    result_dic = {}\n",
    "    result_lst = []\n",
    "    for feat in feats: \n",
    "        if df[feat].dtype == dtype:\n",
    "            null_feat = df[feat].isnull().sum()\n",
    "            if null_feat/l >= perc:\n",
    "                result_dic[feat] = null_feat/l\n",
    "                result_lst.append(feat)\n",
    "    return result_dic, result_lst"
   ]
  },
  {
   "cell_type": "code",
   "execution_count": 6,
   "metadata": {},
   "outputs": [],
   "source": [
    "null_9_fl, null_9_fl_lst = get_null_features(df, 'float64', 0.9)"
   ]
  },
  {
   "cell_type": "code",
   "execution_count": 7,
   "metadata": {},
   "outputs": [],
   "source": [
    "null_9_ob, null_9_ob_lst = get_null_features(df, 'object', 0.9)"
   ]
  },
  {
   "cell_type": "code",
   "execution_count": 8,
   "metadata": {},
   "outputs": [
    {
     "data": {
      "text/plain": [
       "{'member_id': 1.0,\n",
       " 'next_pymnt_d': 1.0,\n",
       " 'annual_inc_joint': 0.9851508458028376,\n",
       " 'dti_joint': 0.9851577700995021,\n",
       " 'revol_bal_joint': 1.0,\n",
       " 'sec_app_fico_range_low': 1.0,\n",
       " 'sec_app_fico_range_high': 1.0,\n",
       " 'sec_app_earliest_cr_line': 1.0,\n",
       " 'sec_app_inq_last_6mths': 1.0,\n",
       " 'sec_app_mort_acc': 1.0,\n",
       " 'sec_app_open_acc': 1.0,\n",
       " 'sec_app_revol_util': 1.0,\n",
       " 'sec_app_open_act_il': 1.0,\n",
       " 'sec_app_num_rev_accts': 1.0,\n",
       " 'sec_app_chargeoff_within_12_mths': 1.0,\n",
       " 'sec_app_collections_12_mths_ex_med': 1.0,\n",
       " 'sec_app_mths_since_last_major_derog': 1.0,\n",
       " 'deferral_term': 0.9915246608825709,\n",
       " 'hardship_amount': 0.9915246608825709,\n",
       " 'hardship_length': 0.9915246608825709,\n",
       " 'hardship_dpd': 0.9915246608825709,\n",
       " 'orig_projected_additional_accrued_interest': 0.9937992923368809,\n",
       " 'hardship_payoff_balance_amount': 0.9915246608825709,\n",
       " 'hardship_last_payment_amount': 0.9915246608825709,\n",
       " 'settlement_amount': 0.9690726289477146,\n",
       " 'settlement_percentage': 0.9690726289477146,\n",
       " 'settlement_term': 0.9690726289477146}"
      ]
     },
     "execution_count": 8,
     "metadata": {},
     "output_type": "execute_result"
    }
   ],
   "source": [
    "null_9_fl"
   ]
  },
  {
   "cell_type": "code",
   "execution_count": 9,
   "metadata": {},
   "outputs": [
    {
     "data": {
      "text/plain": [
       "{'desc': 0.9999480677750158,\n",
       " 'verification_status_joint': 0.9851508458028376,\n",
       " 'hardship_type': 0.9915246608825709,\n",
       " 'hardship_reason': 0.9915246608825709,\n",
       " 'hardship_status': 0.9915246608825709,\n",
       " 'hardship_start_date': 0.9915246608825709,\n",
       " 'hardship_end_date': 0.9915246608825709,\n",
       " 'payment_plan_start_date': 0.9915246608825709,\n",
       " 'hardship_loan_status': 0.9915246608825709,\n",
       " 'debt_settlement_flag_date': 0.9690726289477146,\n",
       " 'settlement_status': 0.9690726289477146,\n",
       " 'settlement_date': 0.9690726289477146}"
      ]
     },
     "execution_count": 9,
     "metadata": {},
     "output_type": "execute_result"
    }
   ],
   "source": [
    "null_9_ob"
   ]
  },
  {
   "cell_type": "code",
   "execution_count": 10,
   "metadata": {},
   "outputs": [],
   "source": [
    "#Because we don't have more information about these features, we just drop them for simplicity. \n",
    "lst_to_drop = null_9_fl_lst + null_9_ob_lst"
   ]
  },
  {
   "cell_type": "code",
   "execution_count": 11,
   "metadata": {},
   "outputs": [
    {
     "data": {
      "text/plain": [
       "['member_id',\n",
       " 'next_pymnt_d',\n",
       " 'annual_inc_joint',\n",
       " 'dti_joint',\n",
       " 'revol_bal_joint',\n",
       " 'sec_app_fico_range_low',\n",
       " 'sec_app_fico_range_high',\n",
       " 'sec_app_earliest_cr_line',\n",
       " 'sec_app_inq_last_6mths',\n",
       " 'sec_app_mort_acc',\n",
       " 'sec_app_open_acc',\n",
       " 'sec_app_revol_util',\n",
       " 'sec_app_open_act_il',\n",
       " 'sec_app_num_rev_accts',\n",
       " 'sec_app_chargeoff_within_12_mths',\n",
       " 'sec_app_collections_12_mths_ex_med',\n",
       " 'sec_app_mths_since_last_major_derog',\n",
       " 'deferral_term',\n",
       " 'hardship_amount',\n",
       " 'hardship_length',\n",
       " 'hardship_dpd',\n",
       " 'orig_projected_additional_accrued_interest',\n",
       " 'hardship_payoff_balance_amount',\n",
       " 'hardship_last_payment_amount',\n",
       " 'settlement_amount',\n",
       " 'settlement_percentage',\n",
       " 'settlement_term',\n",
       " 'desc',\n",
       " 'verification_status_joint',\n",
       " 'hardship_type',\n",
       " 'hardship_reason',\n",
       " 'hardship_status',\n",
       " 'hardship_start_date',\n",
       " 'hardship_end_date',\n",
       " 'payment_plan_start_date',\n",
       " 'hardship_loan_status',\n",
       " 'debt_settlement_flag_date',\n",
       " 'settlement_status',\n",
       " 'settlement_date']"
      ]
     },
     "execution_count": 11,
     "metadata": {},
     "output_type": "execute_result"
    }
   ],
   "source": [
    "lst_to_drop"
   ]
  },
  {
   "cell_type": "code",
   "execution_count": 12,
   "metadata": {},
   "outputs": [],
   "source": [
    "df_new = df.drop(lst_to_drop, axis = 1)"
   ]
  },
  {
   "cell_type": "code",
   "execution_count": 13,
   "metadata": {},
   "outputs": [
    {
     "data": {
      "text/plain": [
       "(288838, 110)"
      ]
     },
     "execution_count": 13,
     "metadata": {},
     "output_type": "execute_result"
    }
   ],
   "source": [
    "#We will move on with df_new\n",
    "df_new.shape"
   ]
  },
  {
   "cell_type": "markdown",
   "metadata": {},
   "source": [
    "## Revalue the target and splitting flag with 0 and 1"
   ]
  },
  {
   "cell_type": "code",
   "execution_count": 14,
   "metadata": {},
   "outputs": [
    {
     "data": {
      "text/plain": [
       "0"
      ]
     },
     "execution_count": 14,
     "metadata": {},
     "output_type": "execute_result"
    }
   ],
   "source": [
    "#There is no missing value in the splitting flag.\n",
    "df_new.issue_d.isnull().sum()"
   ]
  },
  {
   "cell_type": "code",
   "execution_count": 15,
   "metadata": {},
   "outputs": [
    {
     "data": {
      "text/plain": [
       "Mar-2016    44790\n",
       "Feb-2016    28606\n",
       "Apr-2016    28062\n",
       "Aug-2016    24983\n",
       "Jul-2016    24916\n",
       "Jun-2016    24471\n",
       "Jan-2016    22671\n",
       "May-2016    21760\n",
       "Dec-2016    18210\n",
       "Nov-2016    17499\n",
       "Oct-2016    17409\n",
       "Sep-2016    15461\n",
       "Name: issue_d, dtype: int64"
      ]
     },
     "execution_count": 15,
     "metadata": {},
     "output_type": "execute_result"
    }
   ],
   "source": [
    "df_new.issue_d.value_counts()"
   ]
  },
  {
   "cell_type": "code",
   "execution_count": 16,
   "metadata": {},
   "outputs": [],
   "source": [
    "df_new['issued_mark'] = df_new.issue_d.apply(lambda x: 1 if x.split('-')[0] in ['Oct','Nov','Dec'] else 0)"
   ]
  },
  {
   "cell_type": "code",
   "execution_count": 17,
   "metadata": {},
   "outputs": [
    {
     "data": {
      "text/plain": [
       "0    235720\n",
       "1     53118\n",
       "Name: issued_mark, dtype: int64"
      ]
     },
     "execution_count": 17,
     "metadata": {},
     "output_type": "execute_result"
    }
   ],
   "source": [
    "df_new.issued_mark.value_counts()"
   ]
  },
  {
   "cell_type": "code",
   "execution_count": 18,
   "metadata": {},
   "outputs": [],
   "source": [
    "df_new.drop('issue_d', axis = 1, inplace = True)"
   ]
  },
  {
   "cell_type": "code",
   "execution_count": 19,
   "metadata": {},
   "outputs": [],
   "source": [
    "df_new['y'] = df_new.loan_status.apply(lambda x: 0 if x == 'Fully Paid' else 1)"
   ]
  },
  {
   "cell_type": "code",
   "execution_count": 20,
   "metadata": {},
   "outputs": [
    {
     "data": {
      "text/plain": [
       "0    239220\n",
       "1     49618\n",
       "Name: y, dtype: int64"
      ]
     },
     "execution_count": 20,
     "metadata": {},
     "output_type": "execute_result"
    }
   ],
   "source": [
    "df_new['y'].value_counts()"
   ]
  },
  {
   "cell_type": "code",
   "execution_count": 21,
   "metadata": {},
   "outputs": [],
   "source": [
    "df_new.drop('loan_status', axis = 1, inplace = True)"
   ]
  },
  {
   "cell_type": "markdown",
   "metadata": {},
   "source": [
    "## Encoding the object type features "
   ]
  },
  {
   "cell_type": "code",
   "execution_count": 22,
   "metadata": {},
   "outputs": [],
   "source": [
    "ob_new = df_new.select_dtypes(include = 'object').columns.values"
   ]
  },
  {
   "cell_type": "code",
   "execution_count": 23,
   "metadata": {},
   "outputs": [
    {
     "data": {
      "text/plain": [
       "array(['int_rate', 'grade', 'sub_grade', 'emp_title', 'emp_length',\n",
       "       'home_ownership', 'verification_status', 'pymnt_plan', 'url',\n",
       "       'purpose', 'title', 'zip_code', 'addr_state', 'earliest_cr_line',\n",
       "       'revol_util', 'initial_list_status', 'last_pymnt_d',\n",
       "       'last_credit_pull_d', 'application_type', 'hardship_flag',\n",
       "       'debt_settlement_flag'], dtype=object)"
      ]
     },
     "execution_count": 23,
     "metadata": {},
     "output_type": "execute_result"
    }
   ],
   "source": [
    "ob_new"
   ]
  },
  {
   "cell_type": "code",
   "execution_count": 24,
   "metadata": {},
   "outputs": [
    {
     "data": {
      "text/plain": [
       "  5.32%    17251\n",
       " 11.49%    12968\n",
       " 11.99%    11037\n",
       " 11.47%     9984\n",
       "  9.75%     9385\n",
       "           ...  \n",
       " 13.19%        1\n",
       " 21.99%        1\n",
       " 26.77%        1\n",
       " 22.99%        1\n",
       " 25.99%        1\n",
       "Name: int_rate, Length: 139, dtype: int64"
      ]
     },
     "execution_count": 24,
     "metadata": {},
     "output_type": "execute_result"
    }
   ],
   "source": [
    "df_new['int_rate'].value_counts()"
   ]
  },
  {
   "cell_type": "code",
   "execution_count": 25,
   "metadata": {},
   "outputs": [
    {
     "data": {
      "text/plain": [
       "0"
      ]
     },
     "execution_count": 25,
     "metadata": {},
     "output_type": "execute_result"
    }
   ],
   "source": [
    "df_new['int_rate'].isnull().sum()"
   ]
  },
  {
   "cell_type": "code",
   "execution_count": 26,
   "metadata": {},
   "outputs": [],
   "source": [
    "#This feature is essentially numerical, we just need to remove the '%'.\n",
    "df_new['int_rate'] = df_new['int_rate'].apply(lambda x: float(x.strip('%')))"
   ]
  },
  {
   "cell_type": "code",
   "execution_count": 27,
   "metadata": {},
   "outputs": [
    {
     "data": {
      "text/plain": [
       "5.32     17251\n",
       "11.49    12968\n",
       "11.99    11037\n",
       "11.47     9984\n",
       "9.75      9385\n",
       "         ...  \n",
       "17.86        1\n",
       "13.19        1\n",
       "11.16        1\n",
       "22.99        1\n",
       "21.99        1\n",
       "Name: int_rate, Length: 139, dtype: int64"
      ]
     },
     "execution_count": 27,
     "metadata": {},
     "output_type": "execute_result"
    }
   ],
   "source": [
    "df_new['int_rate'].value_counts()"
   ]
  },
  {
   "cell_type": "code",
   "execution_count": 28,
   "metadata": {},
   "outputs": [
    {
     "data": {
      "text/plain": [
       "0"
      ]
     },
     "execution_count": 28,
     "metadata": {},
     "output_type": "execute_result"
    }
   ],
   "source": [
    "df_new['grade'].isnull().sum()"
   ]
  },
  {
   "cell_type": "code",
   "execution_count": 29,
   "metadata": {},
   "outputs": [
    {
     "data": {
      "text/plain": [
       "B    101466\n",
       "C     81495\n",
       "A     60823\n",
       "D     32999\n",
       "E      9285\n",
       "F      2255\n",
       "G       515\n",
       "Name: grade, dtype: int64"
      ]
     },
     "execution_count": 29,
     "metadata": {},
     "output_type": "execute_result"
    }
   ],
   "source": [
    "#This feature is also essentially numerical.\n",
    "df_new['grade'].value_counts()"
   ]
  },
  {
   "cell_type": "code",
   "execution_count": 30,
   "metadata": {},
   "outputs": [],
   "source": [
    "dic_grade = {'A': 1, 'B': 2, 'C': 3, 'D': 4, 'E': 5, 'F': 6, 'G': 7}"
   ]
  },
  {
   "cell_type": "code",
   "execution_count": 31,
   "metadata": {},
   "outputs": [],
   "source": [
    "df_new['grade'] = df_new['grade'].apply(lambda x: dic_grade[x])"
   ]
  },
  {
   "cell_type": "code",
   "execution_count": 32,
   "metadata": {},
   "outputs": [
    {
     "data": {
      "text/plain": [
       "2    101466\n",
       "3     81495\n",
       "1     60823\n",
       "4     32999\n",
       "5      9285\n",
       "6      2255\n",
       "7       515\n",
       "Name: grade, dtype: int64"
      ]
     },
     "execution_count": 32,
     "metadata": {},
     "output_type": "execute_result"
    }
   ],
   "source": [
    "df_new['grade'].value_counts()"
   ]
  },
  {
   "cell_type": "code",
   "execution_count": 33,
   "metadata": {},
   "outputs": [
    {
     "data": {
      "text/plain": [
       "B5    24724\n",
       "C1    21891\n",
       "B4    20985\n",
       "B3    19156\n",
       "B2    18470\n",
       "B1    18131\n",
       "C2    17505\n",
       "A1    17251\n",
       "C3    14813\n",
       "C4    14606\n",
       "A5    12993\n",
       "C5    12680\n",
       "A4    12508\n",
       "D1    10190\n",
       "A2     9344\n",
       "A3     8727\n",
       "D2     8024\n",
       "D3     6078\n",
       "D4     4986\n",
       "D5     3721\n",
       "E1     2999\n",
       "E2     2300\n",
       "E3     1766\n",
       "E4     1248\n",
       "E5      972\n",
       "F1      755\n",
       "F2      462\n",
       "F3      397\n",
       "F4      355\n",
       "F5      286\n",
       "G1      169\n",
       "G2      127\n",
       "G3       86\n",
       "G4       68\n",
       "G5       65\n",
       "Name: sub_grade, dtype: int64"
      ]
     },
     "execution_count": 33,
     "metadata": {},
     "output_type": "execute_result"
    }
   ],
   "source": [
    "#The same for 'sub_grade'\n",
    "df_new['sub_grade'].value_counts()"
   ]
  },
  {
   "cell_type": "code",
   "execution_count": 34,
   "metadata": {},
   "outputs": [
    {
     "data": {
      "text/plain": [
       "0"
      ]
     },
     "execution_count": 34,
     "metadata": {},
     "output_type": "execute_result"
    }
   ],
   "source": [
    "df_new['sub_grade'].isnull().sum()"
   ]
  },
  {
   "cell_type": "code",
   "execution_count": 35,
   "metadata": {},
   "outputs": [],
   "source": [
    "df_new['sub_grade'] = df_new['sub_grade'].apply(lambda x: dic_grade[x[0]]*10 + int(x[1]))"
   ]
  },
  {
   "cell_type": "code",
   "execution_count": 36,
   "metadata": {},
   "outputs": [
    {
     "data": {
      "text/plain": [
       "25    24724\n",
       "31    21891\n",
       "24    20985\n",
       "23    19156\n",
       "22    18470\n",
       "21    18131\n",
       "32    17505\n",
       "11    17251\n",
       "33    14813\n",
       "34    14606\n",
       "15    12993\n",
       "35    12680\n",
       "14    12508\n",
       "41    10190\n",
       "12     9344\n",
       "13     8727\n",
       "42     8024\n",
       "43     6078\n",
       "44     4986\n",
       "45     3721\n",
       "51     2999\n",
       "52     2300\n",
       "53     1766\n",
       "54     1248\n",
       "55      972\n",
       "61      755\n",
       "62      462\n",
       "63      397\n",
       "64      355\n",
       "65      286\n",
       "71      169\n",
       "72      127\n",
       "73       86\n",
       "74       68\n",
       "75       65\n",
       "Name: sub_grade, dtype: int64"
      ]
     },
     "execution_count": 36,
     "metadata": {},
     "output_type": "execute_result"
    }
   ],
   "source": [
    "df_new['sub_grade'].value_counts()"
   ]
  },
  {
   "cell_type": "code",
   "execution_count": 37,
   "metadata": {},
   "outputs": [
    {
     "data": {
      "text/plain": [
       "20940"
      ]
     },
     "execution_count": 37,
     "metadata": {},
     "output_type": "execute_result"
    }
   ],
   "source": [
    "df_new['emp_title'].isnull().sum()"
   ]
  },
  {
   "cell_type": "code",
   "execution_count": 38,
   "metadata": {},
   "outputs": [
    {
     "data": {
      "text/plain": [
       "Teacher                            5468\n",
       "Manager                            4933\n",
       "Owner                              3369\n",
       "Driver                             2284\n",
       "RN                                 2226\n",
       "                                   ... \n",
       "Sales Advisor II                      1\n",
       "I.T. and Computer Teacher             1\n",
       "Adminstrative Analyst                 1\n",
       "LEAD MAN                              1\n",
       "Customer Service Reperasenative       1\n",
       "Name: emp_title, Length: 86697, dtype: int64"
      ]
     },
     "execution_count": 38,
     "metadata": {},
     "output_type": "execute_result"
    }
   ],
   "source": [
    "df_new['emp_title'].value_counts()"
   ]
  },
  {
   "cell_type": "code",
   "execution_count": 39,
   "metadata": {},
   "outputs": [],
   "source": [
    "#Fill in the missing value with 'others'\n",
    "df_new['emp_title'].fillna('unknown', inplace = True)"
   ]
  },
  {
   "cell_type": "code",
   "execution_count": 40,
   "metadata": {},
   "outputs": [
    {
     "data": {
      "text/plain": [
       "unknown                          20940\n",
       "Teacher                           5468\n",
       "Manager                           4933\n",
       "Owner                             3369\n",
       "Driver                            2284\n",
       "                                 ...  \n",
       "Marine Electronics Technician        1\n",
       "Sr. Manager, External Affairs        1\n",
       "Parole Services                      1\n",
       "Director, Global Quality             1\n",
       "Direct Service Professional          1\n",
       "Name: emp_title, Length: 86698, dtype: int64"
      ]
     },
     "execution_count": 40,
     "metadata": {},
     "output_type": "execute_result"
    }
   ],
   "source": [
    "df_new['emp_title'].value_counts()"
   ]
  },
  {
   "cell_type": "code",
   "execution_count": 41,
   "metadata": {},
   "outputs": [],
   "source": [
    "#We apply frequency encoding to this feature.\n",
    "def generate_freq(df, feat):\n",
    "    freq_name = feat + '_freq'\n",
    "    df_freq = df.groupby(feat).size().reset_index()\n",
    "    df_freq.columns = [feat, freq_name]\n",
    "    df = pd.merge(df, df_freq, how = 'left', on = feat)\n",
    "    return df"
   ]
  },
  {
   "cell_type": "code",
   "execution_count": 42,
   "metadata": {},
   "outputs": [],
   "source": [
    "df_new = generate_freq(df_new, 'emp_title')"
   ]
  },
  {
   "cell_type": "code",
   "execution_count": 43,
   "metadata": {},
   "outputs": [
    {
     "data": {
      "text/html": [
       "<div>\n",
       "<style scoped>\n",
       "    .dataframe tbody tr th:only-of-type {\n",
       "        vertical-align: middle;\n",
       "    }\n",
       "\n",
       "    .dataframe tbody tr th {\n",
       "        vertical-align: top;\n",
       "    }\n",
       "\n",
       "    .dataframe thead th {\n",
       "        text-align: right;\n",
       "    }\n",
       "</style>\n",
       "<table border=\"1\" class=\"dataframe\">\n",
       "  <thead>\n",
       "    <tr style=\"text-align: right;\">\n",
       "      <th></th>\n",
       "      <th>emp_title</th>\n",
       "      <th>emp_title_freq</th>\n",
       "    </tr>\n",
       "  </thead>\n",
       "  <tbody>\n",
       "    <tr>\n",
       "      <th>0</th>\n",
       "      <td>LOGISTICS COORDINATOR</td>\n",
       "      <td>2</td>\n",
       "    </tr>\n",
       "    <tr>\n",
       "      <th>1</th>\n",
       "      <td>Senior Case Assistant</td>\n",
       "      <td>2</td>\n",
       "    </tr>\n",
       "    <tr>\n",
       "      <th>2</th>\n",
       "      <td>Vp</td>\n",
       "      <td>25</td>\n",
       "    </tr>\n",
       "    <tr>\n",
       "      <th>3</th>\n",
       "      <td>Jail Administrator</td>\n",
       "      <td>2</td>\n",
       "    </tr>\n",
       "    <tr>\n",
       "      <th>4</th>\n",
       "      <td>Telecom ngineer</td>\n",
       "      <td>1</td>\n",
       "    </tr>\n",
       "    <tr>\n",
       "      <th>...</th>\n",
       "      <td>...</td>\n",
       "      <td>...</td>\n",
       "    </tr>\n",
       "    <tr>\n",
       "      <th>288833</th>\n",
       "      <td>IT Solutions Architect II</td>\n",
       "      <td>1</td>\n",
       "    </tr>\n",
       "    <tr>\n",
       "      <th>288834</th>\n",
       "      <td>Foster care worker</td>\n",
       "      <td>1</td>\n",
       "    </tr>\n",
       "    <tr>\n",
       "      <th>288835</th>\n",
       "      <td>Supervisor</td>\n",
       "      <td>428</td>\n",
       "    </tr>\n",
       "    <tr>\n",
       "      <th>288836</th>\n",
       "      <td>Customer Service</td>\n",
       "      <td>346</td>\n",
       "    </tr>\n",
       "    <tr>\n",
       "      <th>288837</th>\n",
       "      <td>Billing clerk</td>\n",
       "      <td>5</td>\n",
       "    </tr>\n",
       "  </tbody>\n",
       "</table>\n",
       "<p>288838 rows × 2 columns</p>\n",
       "</div>"
      ],
      "text/plain": [
       "                        emp_title  emp_title_freq\n",
       "0           LOGISTICS COORDINATOR               2\n",
       "1           Senior Case Assistant               2\n",
       "2                              Vp              25\n",
       "3              Jail Administrator               2\n",
       "4                 Telecom ngineer               1\n",
       "...                           ...             ...\n",
       "288833  IT Solutions Architect II               1\n",
       "288834        Foster care worker                1\n",
       "288835                Supervisor              428\n",
       "288836           Customer Service             346\n",
       "288837              Billing clerk               5\n",
       "\n",
       "[288838 rows x 2 columns]"
      ]
     },
     "execution_count": 43,
     "metadata": {},
     "output_type": "execute_result"
    }
   ],
   "source": [
    "df_new[['emp_title', 'emp_title_freq']]"
   ]
  },
  {
   "cell_type": "code",
   "execution_count": 44,
   "metadata": {},
   "outputs": [],
   "source": [
    "df_new.drop('emp_title', axis = 1, inplace = True)"
   ]
  },
  {
   "cell_type": "code",
   "execution_count": 45,
   "metadata": {},
   "outputs": [
    {
     "data": {
      "text/plain": [
       "array(['int_rate', 'grade', 'sub_grade', 'emp_title', 'emp_length',\n",
       "       'home_ownership', 'verification_status', 'pymnt_plan', 'url',\n",
       "       'purpose', 'title', 'zip_code', 'addr_state', 'earliest_cr_line',\n",
       "       'revol_util', 'initial_list_status', 'last_pymnt_d',\n",
       "       'last_credit_pull_d', 'application_type', 'hardship_flag',\n",
       "       'debt_settlement_flag'], dtype=object)"
      ]
     },
     "execution_count": 45,
     "metadata": {},
     "output_type": "execute_result"
    }
   ],
   "source": [
    "ob_new"
   ]
  },
  {
   "cell_type": "code",
   "execution_count": 46,
   "metadata": {},
   "outputs": [
    {
     "data": {
      "text/plain": [
       "20803"
      ]
     },
     "execution_count": 46,
     "metadata": {},
     "output_type": "execute_result"
    }
   ],
   "source": [
    "df_new['emp_length'].isnull().sum()"
   ]
  },
  {
   "cell_type": "code",
   "execution_count": 47,
   "metadata": {},
   "outputs": [
    {
     "data": {
      "text/plain": [
       "10+ years    94905\n",
       "2 years      27038\n",
       "3 years      23727\n",
       "< 1 year     22254\n",
       "1 year       19982\n",
       "5 years      17717\n",
       "4 years      17286\n",
       "6 years      12405\n",
       "8 years      12383\n",
       "9 years      11029\n",
       "7 years       9309\n",
       "Name: emp_length, dtype: int64"
      ]
     },
     "execution_count": 47,
     "metadata": {},
     "output_type": "execute_result"
    }
   ],
   "source": [
    "df_new['emp_length'].value_counts()"
   ]
  },
  {
   "cell_type": "code",
   "execution_count": 48,
   "metadata": {},
   "outputs": [],
   "source": [
    "#This feature is also essentially numerical.\n",
    "emp_length_dic = {'10+ years': 10, '9 years': 9, '8 years': 8, '7 years': 7, '6 years': 6, '5 years': 5,\n",
    "                 '4 years': 4, '3 years': 3, '2 years': 2, '1 year': 1, '< 1 year': 0, np.nan : -999}"
   ]
  },
  {
   "cell_type": "code",
   "execution_count": 49,
   "metadata": {},
   "outputs": [],
   "source": [
    "df_new['emp_length'] = df_new['emp_length'].apply(lambda x: emp_length_dic[x])"
   ]
  },
  {
   "cell_type": "code",
   "execution_count": 50,
   "metadata": {},
   "outputs": [
    {
     "data": {
      "text/plain": [
       " 10     94905\n",
       " 2      27038\n",
       " 3      23727\n",
       " 0      22254\n",
       "-999    20803\n",
       " 1      19982\n",
       " 5      17717\n",
       " 4      17286\n",
       " 6      12405\n",
       " 8      12383\n",
       " 9      11029\n",
       " 7       9309\n",
       "Name: emp_length, dtype: int64"
      ]
     },
     "execution_count": 50,
     "metadata": {},
     "output_type": "execute_result"
    }
   ],
   "source": [
    "df_new['emp_length'].value_counts()"
   ]
  },
  {
   "cell_type": "code",
   "execution_count": 51,
   "metadata": {},
   "outputs": [
    {
     "data": {
      "text/plain": [
       "0"
      ]
     },
     "execution_count": 51,
     "metadata": {},
     "output_type": "execute_result"
    }
   ],
   "source": [
    "df_new['home_ownership'].isnull().sum()"
   ]
  },
  {
   "cell_type": "code",
   "execution_count": 52,
   "metadata": {},
   "outputs": [
    {
     "data": {
      "text/plain": [
       "MORTGAGE    132857\n",
       "RENT        119385\n",
       "OWN          36533\n",
       "ANY             63\n",
       "Name: home_ownership, dtype: int64"
      ]
     },
     "execution_count": 52,
     "metadata": {},
     "output_type": "execute_result"
    }
   ],
   "source": [
    "df_new['home_ownership'].value_counts()"
   ]
  },
  {
   "cell_type": "code",
   "execution_count": 53,
   "metadata": {},
   "outputs": [],
   "source": [
    "#For this feature we can use onehot encoding since there are not so many values there.\n",
    "df_home_owner_dummies = pd.get_dummies(df_new['home_ownership'])"
   ]
  },
  {
   "cell_type": "code",
   "execution_count": 54,
   "metadata": {},
   "outputs": [
    {
     "data": {
      "text/html": [
       "<div>\n",
       "<style scoped>\n",
       "    .dataframe tbody tr th:only-of-type {\n",
       "        vertical-align: middle;\n",
       "    }\n",
       "\n",
       "    .dataframe tbody tr th {\n",
       "        vertical-align: top;\n",
       "    }\n",
       "\n",
       "    .dataframe thead th {\n",
       "        text-align: right;\n",
       "    }\n",
       "</style>\n",
       "<table border=\"1\" class=\"dataframe\">\n",
       "  <thead>\n",
       "    <tr style=\"text-align: right;\">\n",
       "      <th></th>\n",
       "      <th>ANY</th>\n",
       "      <th>MORTGAGE</th>\n",
       "      <th>OWN</th>\n",
       "      <th>RENT</th>\n",
       "    </tr>\n",
       "  </thead>\n",
       "  <tbody>\n",
       "    <tr>\n",
       "      <th>0</th>\n",
       "      <td>0</td>\n",
       "      <td>1</td>\n",
       "      <td>0</td>\n",
       "      <td>0</td>\n",
       "    </tr>\n",
       "    <tr>\n",
       "      <th>1</th>\n",
       "      <td>0</td>\n",
       "      <td>0</td>\n",
       "      <td>0</td>\n",
       "      <td>1</td>\n",
       "    </tr>\n",
       "    <tr>\n",
       "      <th>2</th>\n",
       "      <td>0</td>\n",
       "      <td>0</td>\n",
       "      <td>0</td>\n",
       "      <td>1</td>\n",
       "    </tr>\n",
       "    <tr>\n",
       "      <th>3</th>\n",
       "      <td>0</td>\n",
       "      <td>1</td>\n",
       "      <td>0</td>\n",
       "      <td>0</td>\n",
       "    </tr>\n",
       "    <tr>\n",
       "      <th>4</th>\n",
       "      <td>0</td>\n",
       "      <td>1</td>\n",
       "      <td>0</td>\n",
       "      <td>0</td>\n",
       "    </tr>\n",
       "  </tbody>\n",
       "</table>\n",
       "</div>"
      ],
      "text/plain": [
       "   ANY  MORTGAGE  OWN  RENT\n",
       "0    0         1    0     0\n",
       "1    0         0    0     1\n",
       "2    0         0    0     1\n",
       "3    0         1    0     0\n",
       "4    0         1    0     0"
      ]
     },
     "execution_count": 54,
     "metadata": {},
     "output_type": "execute_result"
    }
   ],
   "source": [
    "df_home_owner_dummies.head()"
   ]
  },
  {
   "cell_type": "code",
   "execution_count": 55,
   "metadata": {},
   "outputs": [],
   "source": [
    "df_new = pd.concat([df_new, df_home_owner_dummies], axis = 1)"
   ]
  },
  {
   "cell_type": "code",
   "execution_count": 56,
   "metadata": {},
   "outputs": [],
   "source": [
    "df_new.drop('home_ownership', axis = 1, inplace = True)"
   ]
  },
  {
   "cell_type": "code",
   "execution_count": 57,
   "metadata": {},
   "outputs": [
    {
     "data": {
      "text/plain": [
       "Source Verified    125867\n",
       "Verified            83031\n",
       "Not Verified        79940\n",
       "Name: verification_status, dtype: int64"
      ]
     },
     "execution_count": 57,
     "metadata": {},
     "output_type": "execute_result"
    }
   ],
   "source": [
    "df_new['verification_status'].value_counts()"
   ]
  },
  {
   "cell_type": "code",
   "execution_count": 58,
   "metadata": {},
   "outputs": [],
   "source": [
    "df_verifi_dummies =pd.get_dummies(df_new['verification_status'])"
   ]
  },
  {
   "cell_type": "code",
   "execution_count": 59,
   "metadata": {},
   "outputs": [
    {
     "data": {
      "text/html": [
       "<div>\n",
       "<style scoped>\n",
       "    .dataframe tbody tr th:only-of-type {\n",
       "        vertical-align: middle;\n",
       "    }\n",
       "\n",
       "    .dataframe tbody tr th {\n",
       "        vertical-align: top;\n",
       "    }\n",
       "\n",
       "    .dataframe thead th {\n",
       "        text-align: right;\n",
       "    }\n",
       "</style>\n",
       "<table border=\"1\" class=\"dataframe\">\n",
       "  <thead>\n",
       "    <tr style=\"text-align: right;\">\n",
       "      <th></th>\n",
       "      <th>Not Verified</th>\n",
       "      <th>Source Verified</th>\n",
       "      <th>Verified</th>\n",
       "    </tr>\n",
       "  </thead>\n",
       "  <tbody>\n",
       "    <tr>\n",
       "      <th>0</th>\n",
       "      <td>0</td>\n",
       "      <td>0</td>\n",
       "      <td>1</td>\n",
       "    </tr>\n",
       "    <tr>\n",
       "      <th>1</th>\n",
       "      <td>0</td>\n",
       "      <td>1</td>\n",
       "      <td>0</td>\n",
       "    </tr>\n",
       "    <tr>\n",
       "      <th>2</th>\n",
       "      <td>0</td>\n",
       "      <td>1</td>\n",
       "      <td>0</td>\n",
       "    </tr>\n",
       "    <tr>\n",
       "      <th>3</th>\n",
       "      <td>0</td>\n",
       "      <td>0</td>\n",
       "      <td>1</td>\n",
       "    </tr>\n",
       "    <tr>\n",
       "      <th>4</th>\n",
       "      <td>0</td>\n",
       "      <td>1</td>\n",
       "      <td>0</td>\n",
       "    </tr>\n",
       "  </tbody>\n",
       "</table>\n",
       "</div>"
      ],
      "text/plain": [
       "   Not Verified  Source Verified  Verified\n",
       "0             0                0         1\n",
       "1             0                1         0\n",
       "2             0                1         0\n",
       "3             0                0         1\n",
       "4             0                1         0"
      ]
     },
     "execution_count": 59,
     "metadata": {},
     "output_type": "execute_result"
    }
   ],
   "source": [
    "df_verifi_dummies.head()"
   ]
  },
  {
   "cell_type": "code",
   "execution_count": 60,
   "metadata": {},
   "outputs": [],
   "source": [
    "df_new = pd.concat([df_new, df_verifi_dummies], axis = 1)"
   ]
  },
  {
   "cell_type": "code",
   "execution_count": 61,
   "metadata": {},
   "outputs": [],
   "source": [
    "df_new.drop('verification_status', axis = 1, inplace = True)"
   ]
  },
  {
   "cell_type": "code",
   "execution_count": 62,
   "metadata": {},
   "outputs": [
    {
     "data": {
      "text/plain": [
       "array(['int_rate', 'grade', 'sub_grade', 'emp_title', 'emp_length',\n",
       "       'home_ownership', 'verification_status', 'pymnt_plan', 'url',\n",
       "       'purpose', 'title', 'zip_code', 'addr_state', 'earliest_cr_line',\n",
       "       'revol_util', 'initial_list_status', 'last_pymnt_d',\n",
       "       'last_credit_pull_d', 'application_type', 'hardship_flag',\n",
       "       'debt_settlement_flag'], dtype=object)"
      ]
     },
     "execution_count": 62,
     "metadata": {},
     "output_type": "execute_result"
    }
   ],
   "source": [
    "ob_new"
   ]
  },
  {
   "cell_type": "code",
   "execution_count": 63,
   "metadata": {},
   "outputs": [
    {
     "data": {
      "text/plain": [
       "0"
      ]
     },
     "execution_count": 63,
     "metadata": {},
     "output_type": "execute_result"
    }
   ],
   "source": [
    "df_new['pymnt_plan'].isnull().sum()"
   ]
  },
  {
   "cell_type": "code",
   "execution_count": 64,
   "metadata": {},
   "outputs": [
    {
     "data": {
      "text/plain": [
       "n    288838\n",
       "Name: pymnt_plan, dtype: int64"
      ]
     },
     "execution_count": 64,
     "metadata": {},
     "output_type": "execute_result"
    }
   ],
   "source": [
    "df_new['pymnt_plan'].value_counts()"
   ]
  },
  {
   "cell_type": "code",
   "execution_count": 65,
   "metadata": {},
   "outputs": [],
   "source": [
    "#There is only one value in the 36 months term loan, we drop it.\n",
    "df_new.drop('pymnt_plan', axis = 1, inplace = True)"
   ]
  },
  {
   "cell_type": "code",
   "execution_count": 66,
   "metadata": {},
   "outputs": [
    {
     "data": {
      "text/plain": [
       "https://lendingclub.com/browse/loanDetail.action?loan_id=91330051    1\n",
       "https://lendingclub.com/browse/loanDetail.action?loan_id=88593122    1\n",
       "https://lendingclub.com/browse/loanDetail.action?loan_id=85842097    1\n",
       "https://lendingclub.com/browse/loanDetail.action?loan_id=91527290    1\n",
       "https://lendingclub.com/browse/loanDetail.action?loan_id=73754150    1\n",
       "                                                                    ..\n",
       "https://lendingclub.com/browse/loanDetail.action?loan_id=79753759    1\n",
       "https://lendingclub.com/browse/loanDetail.action?loan_id=90008350    1\n",
       "https://lendingclub.com/browse/loanDetail.action?loan_id=70652911    1\n",
       "https://lendingclub.com/browse/loanDetail.action?loan_id=87956790    1\n",
       "https://lendingclub.com/browse/loanDetail.action?loan_id=90441310    1\n",
       "Name: url, Length: 288838, dtype: int64"
      ]
     },
     "execution_count": 66,
     "metadata": {},
     "output_type": "execute_result"
    }
   ],
   "source": [
    "df_new['url'].value_counts()"
   ]
  },
  {
   "cell_type": "code",
   "execution_count": 67,
   "metadata": {},
   "outputs": [],
   "source": [
    "#It takes each value exactly once. We drop this feature.\n",
    "df_new.drop('url', axis = 1, inplace = True)"
   ]
  },
  {
   "cell_type": "code",
   "execution_count": 68,
   "metadata": {},
   "outputs": [
    {
     "data": {
      "text/plain": [
       "0"
      ]
     },
     "execution_count": 68,
     "metadata": {},
     "output_type": "execute_result"
    }
   ],
   "source": [
    "df_new['purpose'].isnull().sum()"
   ]
  },
  {
   "cell_type": "code",
   "execution_count": 69,
   "metadata": {},
   "outputs": [
    {
     "data": {
      "text/plain": [
       "debt_consolidation    159696\n",
       "credit_card            61942\n",
       "other                  21266\n",
       "home_improvement       20826\n",
       "major_purchase          7371\n",
       "medical                 3993\n",
       "car                     3599\n",
       "small_business          3294\n",
       "vacation                2687\n",
       "moving                  2559\n",
       "house                   1379\n",
       "renewable_energy         225\n",
       "wedding                    1\n",
       "Name: purpose, dtype: int64"
      ]
     },
     "execution_count": 69,
     "metadata": {},
     "output_type": "execute_result"
    }
   ],
   "source": [
    "df_new['purpose'].value_counts()"
   ]
  },
  {
   "cell_type": "code",
   "execution_count": 70,
   "metadata": {},
   "outputs": [],
   "source": [
    "#We apply frequency encoding. Onehot encoding is also OK.\n",
    "df_new = generate_freq(df_new, 'purpose')"
   ]
  },
  {
   "cell_type": "code",
   "execution_count": 71,
   "metadata": {},
   "outputs": [
    {
     "data": {
      "text/plain": [
       "0     61942\n",
       "1    159696\n",
       "2    159696\n",
       "3    159696\n",
       "4    159696\n",
       "Name: purpose_freq, dtype: int64"
      ]
     },
     "execution_count": 71,
     "metadata": {},
     "output_type": "execute_result"
    }
   ],
   "source": [
    "df_new['purpose_freq'].head()"
   ]
  },
  {
   "cell_type": "code",
   "execution_count": 72,
   "metadata": {},
   "outputs": [],
   "source": [
    "df_new.drop('purpose', axis = 1, inplace = True)"
   ]
  },
  {
   "cell_type": "code",
   "execution_count": 73,
   "metadata": {},
   "outputs": [
    {
     "data": {
      "text/plain": [
       "15423"
      ]
     },
     "execution_count": 73,
     "metadata": {},
     "output_type": "execute_result"
    }
   ],
   "source": [
    "df_new['title'].isnull().sum()"
   ]
  },
  {
   "cell_type": "code",
   "execution_count": 74,
   "metadata": {},
   "outputs": [],
   "source": [
    "df_new['title'].fillna('others', inplace = True)"
   ]
  },
  {
   "cell_type": "code",
   "execution_count": 75,
   "metadata": {},
   "outputs": [
    {
     "data": {
      "text/plain": [
       "Debt consolidation           150465\n",
       "Credit card refinancing       58209\n",
       "Other                         20710\n",
       "Home improvement              19949\n",
       "others                        15423\n",
       "Major purchase                 7106\n",
       "Medical expenses               3812\n",
       "Car financing                  3454\n",
       "Business                       3132\n",
       "Vacation                       2562\n",
       "Moving and relocation          2469\n",
       "Home buying                    1329\n",
       "Green loan                      217\n",
       "Credit Card Consolidation         1\n",
       "Name: title, dtype: int64"
      ]
     },
     "execution_count": 75,
     "metadata": {},
     "output_type": "execute_result"
    }
   ],
   "source": [
    "df_new['title'].value_counts()"
   ]
  },
  {
   "cell_type": "code",
   "execution_count": 76,
   "metadata": {},
   "outputs": [],
   "source": [
    "#Use frequency encoding.\n",
    "df_new = generate_freq(df_new, 'title')"
   ]
  },
  {
   "cell_type": "code",
   "execution_count": 77,
   "metadata": {},
   "outputs": [
    {
     "data": {
      "text/plain": [
       "0     58209\n",
       "1    150465\n",
       "2    150465\n",
       "3    150465\n",
       "4    150465\n",
       "Name: title_freq, dtype: int64"
      ]
     },
     "execution_count": 77,
     "metadata": {},
     "output_type": "execute_result"
    }
   ],
   "source": [
    "df_new['title_freq'].head()"
   ]
  },
  {
   "cell_type": "code",
   "execution_count": 78,
   "metadata": {},
   "outputs": [],
   "source": [
    "df_new.drop('title', axis = 1, inplace = True)"
   ]
  },
  {
   "cell_type": "code",
   "execution_count": 79,
   "metadata": {},
   "outputs": [
    {
     "data": {
      "text/plain": [
       "0"
      ]
     },
     "execution_count": 79,
     "metadata": {},
     "output_type": "execute_result"
    }
   ],
   "source": [
    "df_new.zip_code.isnull().sum()"
   ]
  },
  {
   "cell_type": "code",
   "execution_count": 80,
   "metadata": {},
   "outputs": [
    {
     "data": {
      "text/plain": [
       "750xx    3046\n",
       "945xx    3041\n",
       "112xx    3036\n",
       "606xx    2770\n",
       "300xx    2567\n",
       "         ... \n",
       "987xx       1\n",
       "872xx       1\n",
       "203xx       1\n",
       "698xx       1\n",
       "909xx       1\n",
       "Name: zip_code, Length: 903, dtype: int64"
      ]
     },
     "execution_count": 80,
     "metadata": {},
     "output_type": "execute_result"
    }
   ],
   "source": [
    "df_new.zip_code.value_counts()"
   ]
  },
  {
   "cell_type": "code",
   "execution_count": 81,
   "metadata": {},
   "outputs": [],
   "source": [
    "#Use frequency encoding.\n",
    "df_new = generate_freq(df_new, 'zip_code')"
   ]
  },
  {
   "cell_type": "code",
   "execution_count": 82,
   "metadata": {},
   "outputs": [
    {
     "data": {
      "text/plain": [
       "0    2325\n",
       "1    3041\n",
       "2    2010\n",
       "3      97\n",
       "4    2325\n",
       "Name: zip_code_freq, dtype: int64"
      ]
     },
     "execution_count": 82,
     "metadata": {},
     "output_type": "execute_result"
    }
   ],
   "source": [
    "df_new['zip_code_freq'].head()"
   ]
  },
  {
   "cell_type": "code",
   "execution_count": 83,
   "metadata": {},
   "outputs": [],
   "source": [
    "df_new.drop('zip_code', axis = 1, inplace = True)"
   ]
  },
  {
   "cell_type": "code",
   "execution_count": 84,
   "metadata": {},
   "outputs": [
    {
     "data": {
      "text/plain": [
       "0"
      ]
     },
     "execution_count": 84,
     "metadata": {},
     "output_type": "execute_result"
    }
   ],
   "source": [
    "df_new['addr_state'].isnull().sum()"
   ]
  },
  {
   "cell_type": "code",
   "execution_count": 85,
   "metadata": {},
   "outputs": [
    {
     "data": {
      "text/plain": [
       "CA    40051\n",
       "TX    24744\n",
       "NY    23913\n",
       "FL    21752\n",
       "IL    11630\n",
       "NJ    10308\n",
       "OH     9788\n",
       "GA     9427\n",
       "PA     9037\n",
       "NC     7955\n",
       "MI     7762\n",
       "VA     7465\n",
       "AZ     7166\n",
       "MA     6481\n",
       "MD     6257\n",
       "CO     5924\n",
       "WA     5751\n",
       "MN     5012\n",
       "IN     4952\n",
       "TN     4809\n",
       "MO     4545\n",
       "CT     4352\n",
       "NV     4350\n",
       "WI     3892\n",
       "SC     3477\n",
       "AL     3422\n",
       "LA     3228\n",
       "OR     3181\n",
       "KY     2703\n",
       "OK     2691\n",
       "KS     2316\n",
       "AR     2193\n",
       "MS     1903\n",
       "UT     1866\n",
       "NM     1497\n",
       "NE     1408\n",
       "NH     1402\n",
       "HI     1330\n",
       "RI     1235\n",
       "ME      910\n",
       "DE      812\n",
       "ID      811\n",
       "MT      782\n",
       "ND      721\n",
       "DC      686\n",
       "AK      645\n",
       "VT      605\n",
       "SD      589\n",
       "WY      582\n",
       "WV      520\n",
       "Name: addr_state, dtype: int64"
      ]
     },
     "execution_count": 85,
     "metadata": {},
     "output_type": "execute_result"
    }
   ],
   "source": [
    "df_new['addr_state'].value_counts()"
   ]
  },
  {
   "cell_type": "code",
   "execution_count": 86,
   "metadata": {},
   "outputs": [],
   "source": [
    "df_new = generate_freq(df_new, 'addr_state')"
   ]
  },
  {
   "cell_type": "code",
   "execution_count": 87,
   "metadata": {},
   "outputs": [
    {
     "data": {
      "text/plain": [
       "0    21752\n",
       "1    40051\n",
       "2    40051\n",
       "3     7762\n",
       "4    21752\n",
       "Name: addr_state_freq, dtype: int64"
      ]
     },
     "execution_count": 87,
     "metadata": {},
     "output_type": "execute_result"
    }
   ],
   "source": [
    "df_new['addr_state_freq'].head()"
   ]
  },
  {
   "cell_type": "code",
   "execution_count": 88,
   "metadata": {},
   "outputs": [],
   "source": [
    "df_new.drop('addr_state', axis = 1, inplace = True)"
   ]
  },
  {
   "cell_type": "code",
   "execution_count": 89,
   "metadata": {},
   "outputs": [
    {
     "data": {
      "text/plain": [
       "0"
      ]
     },
     "execution_count": 89,
     "metadata": {},
     "output_type": "execute_result"
    }
   ],
   "source": [
    "df_new['earliest_cr_line'].isnull().sum()"
   ]
  },
  {
   "cell_type": "code",
   "execution_count": 90,
   "metadata": {},
   "outputs": [
    {
     "data": {
      "text/plain": [
       "Sep-2003    2159\n",
       "Sep-2004    2159\n",
       "Aug-2003    2141\n",
       "Sep-2005    2127\n",
       "Aug-2004    2069\n",
       "            ... \n",
       "Jul-1952       1\n",
       "Apr-1961       1\n",
       "Jan-1951       1\n",
       "Mar-1933       1\n",
       "Nov-1963       1\n",
       "Name: earliest_cr_line, Length: 655, dtype: int64"
      ]
     },
     "execution_count": 90,
     "metadata": {},
     "output_type": "execute_result"
    }
   ],
   "source": [
    "df_new['earliest_cr_line'].value_counts()"
   ]
  },
  {
   "cell_type": "code",
   "execution_count": 91,
   "metadata": {},
   "outputs": [],
   "source": [
    "#We can replace this feature by the year and the month. Or we can replace it by the credit length in months. \n",
    "#We adopt the latter since it seems more explainable."
   ]
  },
  {
   "cell_type": "code",
   "execution_count": 92,
   "metadata": {},
   "outputs": [],
   "source": [
    "dic_months = {'Jan':11,'Feb':10,'Mar':9,'Apr':8, 'May':7, 'Jun':6, 'Jul':5, 'Aug':4, 'Sep':3, 'Oct':2, 'Nov':1, 'Dec':0}"
   ]
  },
  {
   "cell_type": "code",
   "execution_count": 93,
   "metadata": {},
   "outputs": [],
   "source": [
    "df_new['earliest_cr_line_len']=df_new.earliest_cr_line.apply(lambda x: (2016-int(x.split('-')[1]))*12+dic_months[x.split('-')[0]])"
   ]
  },
  {
   "cell_type": "code",
   "execution_count": 94,
   "metadata": {},
   "outputs": [
    {
     "data": {
      "text/plain": [
       "0    177\n",
       "1    205\n",
       "2    143\n",
       "3    151\n",
       "4     98\n",
       "Name: earliest_cr_line_len, dtype: int64"
      ]
     },
     "execution_count": 94,
     "metadata": {},
     "output_type": "execute_result"
    }
   ],
   "source": [
    "df_new['earliest_cr_line_len'].head()"
   ]
  },
  {
   "cell_type": "code",
   "execution_count": 95,
   "metadata": {},
   "outputs": [],
   "source": [
    "df_new.drop('earliest_cr_line', axis = 1, inplace = True)"
   ]
  },
  {
   "cell_type": "code",
   "execution_count": 96,
   "metadata": {},
   "outputs": [
    {
     "data": {
      "text/plain": [
       "196"
      ]
     },
     "execution_count": 96,
     "metadata": {},
     "output_type": "execute_result"
    }
   ],
   "source": [
    "df_new['revol_util'].isnull().sum()"
   ]
  },
  {
   "cell_type": "code",
   "execution_count": 97,
   "metadata": {},
   "outputs": [
    {
     "data": {
      "text/plain": [
       "0%        1366\n",
       "57%        610\n",
       "48%        595\n",
       "51%        591\n",
       "55%        589\n",
       "          ... \n",
       "128%         1\n",
       "117.8%       1\n",
       "165.8%       1\n",
       "115.1%       1\n",
       "127.1%       1\n",
       "Name: revol_util, Length: 1150, dtype: int64"
      ]
     },
     "execution_count": 97,
     "metadata": {},
     "output_type": "execute_result"
    }
   ],
   "source": [
    "df_new['revol_util'].value_counts()"
   ]
  },
  {
   "cell_type": "code",
   "execution_count": 98,
   "metadata": {},
   "outputs": [],
   "source": [
    "#This is essentially a numerical feature. Just remove the '%'.\n",
    "df_new['revol_util'].fillna('0%', inplace = True)"
   ]
  },
  {
   "cell_type": "code",
   "execution_count": 99,
   "metadata": {},
   "outputs": [],
   "source": [
    "df_new['revol_util'] = df_new['revol_util'].apply(lambda x: x.strip('%'))"
   ]
  },
  {
   "cell_type": "code",
   "execution_count": 100,
   "metadata": {},
   "outputs": [
    {
     "data": {
      "text/plain": [
       "0        1562\n",
       "57        610\n",
       "48        595\n",
       "51        591\n",
       "55        589\n",
       "         ... \n",
       "109.1       1\n",
       "104.6       1\n",
       "132.9       1\n",
       "118.3       1\n",
       "113.8       1\n",
       "Name: revol_util, Length: 1150, dtype: int64"
      ]
     },
     "execution_count": 100,
     "metadata": {},
     "output_type": "execute_result"
    }
   ],
   "source": [
    "df_new['revol_util'].value_counts()"
   ]
  },
  {
   "cell_type": "code",
   "execution_count": 101,
   "metadata": {},
   "outputs": [
    {
     "data": {
      "text/plain": [
       "0"
      ]
     },
     "execution_count": 101,
     "metadata": {},
     "output_type": "execute_result"
    }
   ],
   "source": [
    "df_new['initial_list_status'].isnull().sum()"
   ]
  },
  {
   "cell_type": "code",
   "execution_count": 102,
   "metadata": {},
   "outputs": [
    {
     "data": {
      "text/plain": [
       "w    213422\n",
       "f     75416\n",
       "Name: initial_list_status, dtype: int64"
      ]
     },
     "execution_count": 102,
     "metadata": {},
     "output_type": "execute_result"
    }
   ],
   "source": [
    "df_new['initial_list_status'].value_counts()"
   ]
  },
  {
   "cell_type": "code",
   "execution_count": 103,
   "metadata": {},
   "outputs": [],
   "source": [
    "init_dummies = pd.get_dummies(df_new['initial_list_status'])"
   ]
  },
  {
   "cell_type": "code",
   "execution_count": 104,
   "metadata": {},
   "outputs": [],
   "source": [
    "df_new = pd.concat([df_new, init_dummies], axis = 1)"
   ]
  },
  {
   "cell_type": "code",
   "execution_count": 105,
   "metadata": {},
   "outputs": [
    {
     "data": {
      "text/html": [
       "<div>\n",
       "<style scoped>\n",
       "    .dataframe tbody tr th:only-of-type {\n",
       "        vertical-align: middle;\n",
       "    }\n",
       "\n",
       "    .dataframe tbody tr th {\n",
       "        vertical-align: top;\n",
       "    }\n",
       "\n",
       "    .dataframe thead th {\n",
       "        text-align: right;\n",
       "    }\n",
       "</style>\n",
       "<table border=\"1\" class=\"dataframe\">\n",
       "  <thead>\n",
       "    <tr style=\"text-align: right;\">\n",
       "      <th></th>\n",
       "      <th>w</th>\n",
       "      <th>f</th>\n",
       "    </tr>\n",
       "  </thead>\n",
       "  <tbody>\n",
       "    <tr>\n",
       "      <th>0</th>\n",
       "      <td>1</td>\n",
       "      <td>0</td>\n",
       "    </tr>\n",
       "    <tr>\n",
       "      <th>1</th>\n",
       "      <td>1</td>\n",
       "      <td>0</td>\n",
       "    </tr>\n",
       "    <tr>\n",
       "      <th>2</th>\n",
       "      <td>1</td>\n",
       "      <td>0</td>\n",
       "    </tr>\n",
       "    <tr>\n",
       "      <th>3</th>\n",
       "      <td>1</td>\n",
       "      <td>0</td>\n",
       "    </tr>\n",
       "    <tr>\n",
       "      <th>4</th>\n",
       "      <td>1</td>\n",
       "      <td>0</td>\n",
       "    </tr>\n",
       "  </tbody>\n",
       "</table>\n",
       "</div>"
      ],
      "text/plain": [
       "   w  f\n",
       "0  1  0\n",
       "1  1  0\n",
       "2  1  0\n",
       "3  1  0\n",
       "4  1  0"
      ]
     },
     "execution_count": 105,
     "metadata": {},
     "output_type": "execute_result"
    }
   ],
   "source": [
    "df_new[['w', 'f']].head()"
   ]
  },
  {
   "cell_type": "code",
   "execution_count": 106,
   "metadata": {},
   "outputs": [],
   "source": [
    "df_new.drop('initial_list_status', axis = 1, inplace = True)"
   ]
  },
  {
   "cell_type": "code",
   "execution_count": 107,
   "metadata": {},
   "outputs": [
    {
     "data": {
      "text/plain": [
       "406"
      ]
     },
     "execution_count": 107,
     "metadata": {},
     "output_type": "execute_result"
    }
   ],
   "source": [
    "df_new['last_pymnt_d'].isnull().sum()"
   ]
  },
  {
   "cell_type": "code",
   "execution_count": 108,
   "metadata": {},
   "outputs": [
    {
     "data": {
      "text/plain": [
       "Feb-2019    15854\n",
       "Mar-2019    15001\n",
       "Apr-2019    14415\n",
       "Jan-2019    11881\n",
       "May-2019    10116\n",
       "Jul-2019     9546\n",
       "Jun-2019     8940\n",
       "Mar-2018     8459\n",
       "Mar-2017     8029\n",
       "Aug-2017     8017\n",
       "Oct-2017     7714\n",
       "Jun-2017     7701\n",
       "Nov-2017     7643\n",
       "Jan-2018     7539\n",
       "Jul-2017     7522\n",
       "May-2017     7235\n",
       "Aug-2018     7188\n",
       "Feb-2018     7126\n",
       "Aug-2019     6985\n",
       "Sep-2017     6982\n",
       "Jul-2018     6818\n",
       "Dec-2017     6773\n",
       "Jun-2018     6652\n",
       "Apr-2018     6572\n",
       "May-2018     6523\n",
       "Apr-2017     6379\n",
       "Oct-2018     6326\n",
       "Nov-2018     6011\n",
       "Dec-2018     5940\n",
       "Jan-2017     5862\n",
       "Sep-2018     5785\n",
       "Feb-2017     5723\n",
       "Dec-2016     5079\n",
       "Nov-2016     4390\n",
       "Oct-2016     4151\n",
       "Sep-2016     3649\n",
       "Aug-2016     3182\n",
       "Jul-2016     2568\n",
       "Jun-2016     2139\n",
       "May-2016     1554\n",
       "Apr-2016     1235\n",
       "Mar-2016      776\n",
       "Feb-2016      366\n",
       "Jan-2016       86\n",
       "Name: last_pymnt_d, dtype: int64"
      ]
     },
     "execution_count": 108,
     "metadata": {},
     "output_type": "execute_result"
    }
   ],
   "source": [
    "df_new['last_pymnt_d'].value_counts()"
   ]
  },
  {
   "cell_type": "code",
   "execution_count": 109,
   "metadata": {},
   "outputs": [],
   "source": [
    "#We replace the feature by the number of months from Jan-2016 to the last payment month."
   ]
  },
  {
   "cell_type": "code",
   "execution_count": 110,
   "metadata": {},
   "outputs": [],
   "source": [
    "df_new['last_pymnt_d'].fillna('Feb-2019', inplace = True)"
   ]
  },
  {
   "cell_type": "code",
   "execution_count": 111,
   "metadata": {},
   "outputs": [],
   "source": [
    "df_new['months_to_last_pymnt'] = df_new['last_pymnt_d'].apply(lambda x: (int(x.split('-')[1]) - 2016)*12 + dic_months[x.split('-')[0]])"
   ]
  },
  {
   "cell_type": "code",
   "execution_count": 112,
   "metadata": {},
   "outputs": [],
   "source": [
    "df_new.drop('last_pymnt_d', axis = 1, inplace = True)"
   ]
  },
  {
   "cell_type": "code",
   "execution_count": 113,
   "metadata": {},
   "outputs": [
    {
     "data": {
      "text/plain": [
       "8"
      ]
     },
     "execution_count": 113,
     "metadata": {},
     "output_type": "execute_result"
    }
   ],
   "source": [
    "df_new['last_credit_pull_d'].isnull().sum()"
   ]
  },
  {
   "cell_type": "code",
   "execution_count": 114,
   "metadata": {},
   "outputs": [
    {
     "data": {
      "text/plain": [
       "Aug-2019    112510\n",
       "Jul-2019     19108\n",
       "Jun-2019     14423\n",
       "May-2019     13127\n",
       "Apr-2019     12818\n",
       "Mar-2019     11515\n",
       "Feb-2019     10601\n",
       "Jan-2019      8268\n",
       "Jul-2018      7838\n",
       "Oct-2018      5896\n",
       "Aug-2018      5329\n",
       "Nov-2018      4883\n",
       "Dec-2018      4795\n",
       "Sep-2018      4197\n",
       "Mar-2018      3806\n",
       "Apr-2018      3715\n",
       "Feb-2018      3649\n",
       "Jan-2018      3600\n",
       "May-2018      3578\n",
       "Oct-2017      3371\n",
       "Nov-2017      3229\n",
       "Dec-2017      2940\n",
       "Sep-2017      2920\n",
       "Jul-2017      2832\n",
       "Aug-2017      2726\n",
       "Jun-2017      2642\n",
       "Feb-2017      2044\n",
       "Apr-2017      1862\n",
       "Mar-2017      1803\n",
       "May-2017      1477\n",
       "Jan-2017      1260\n",
       "Oct-2016      1182\n",
       "Jun-2018       996\n",
       "Dec-2016       939\n",
       "Nov-2016       794\n",
       "Aug-2016       464\n",
       "Jul-2016       400\n",
       "Apr-2016       298\n",
       "May-2016       276\n",
       "Jun-2016       260\n",
       "Mar-2016       168\n",
       "Sep-2016       155\n",
       "Feb-2016        83\n",
       "Jan-2016        50\n",
       "Dec-2015         2\n",
       "Sep-2019         1\n",
       "Name: last_credit_pull_d, dtype: int64"
      ]
     },
     "execution_count": 114,
     "metadata": {},
     "output_type": "execute_result"
    }
   ],
   "source": [
    "df_new['last_credit_pull_d'].value_counts()"
   ]
  },
  {
   "cell_type": "code",
   "execution_count": 115,
   "metadata": {},
   "outputs": [],
   "source": [
    "df_new['last_credit_pull_d'].fillna('Aug-2019', inplace = True)"
   ]
  },
  {
   "cell_type": "code",
   "execution_count": 116,
   "metadata": {},
   "outputs": [],
   "source": [
    "#Apply the same strategy as above.\n",
    "df_new['months_to_last_credit_pull'] = df_new['last_credit_pull_d'].apply(lambda x: (int(x.split('-')[1]) - 2016) * 12 + dic_months[x.split('-')[0]])"
   ]
  },
  {
   "cell_type": "code",
   "execution_count": 117,
   "metadata": {},
   "outputs": [],
   "source": [
    "df_new.drop('last_credit_pull_d', axis = 1, inplace = True)"
   ]
  },
  {
   "cell_type": "code",
   "execution_count": 118,
   "metadata": {},
   "outputs": [
    {
     "data": {
      "text/plain": [
       "0    45\n",
       "1    41\n",
       "2    43\n",
       "3    47\n",
       "4    21\n",
       "Name: months_to_last_credit_pull, dtype: int64"
      ]
     },
     "execution_count": 118,
     "metadata": {},
     "output_type": "execute_result"
    }
   ],
   "source": [
    "df_new['months_to_last_credit_pull'].head()"
   ]
  },
  {
   "cell_type": "code",
   "execution_count": 119,
   "metadata": {},
   "outputs": [
    {
     "data": {
      "text/plain": [
       "0"
      ]
     },
     "execution_count": 119,
     "metadata": {},
     "output_type": "execute_result"
    }
   ],
   "source": [
    "df_new['application_type'].isnull().sum()"
   ]
  },
  {
   "cell_type": "code",
   "execution_count": 120,
   "metadata": {},
   "outputs": [
    {
     "data": {
      "text/plain": [
       "Individual    284549\n",
       "Joint App       4289\n",
       "Name: application_type, dtype: int64"
      ]
     },
     "execution_count": 120,
     "metadata": {},
     "output_type": "execute_result"
    }
   ],
   "source": [
    "df_new['application_type'].value_counts()"
   ]
  },
  {
   "cell_type": "code",
   "execution_count": 121,
   "metadata": {},
   "outputs": [],
   "source": [
    "app_dummies = pd.get_dummies(df_new['application_type'])"
   ]
  },
  {
   "cell_type": "code",
   "execution_count": 122,
   "metadata": {},
   "outputs": [],
   "source": [
    "df_new = pd.concat([df_new, app_dummies], axis = 1)"
   ]
  },
  {
   "cell_type": "code",
   "execution_count": 123,
   "metadata": {},
   "outputs": [],
   "source": [
    "df_new.drop('application_type', axis = 1, inplace = True)"
   ]
  },
  {
   "cell_type": "code",
   "execution_count": 124,
   "metadata": {},
   "outputs": [
    {
     "data": {
      "text/plain": [
       "0"
      ]
     },
     "execution_count": 124,
     "metadata": {},
     "output_type": "execute_result"
    }
   ],
   "source": [
    "df_new['hardship_flag'].isnull().sum()"
   ]
  },
  {
   "cell_type": "code",
   "execution_count": 125,
   "metadata": {},
   "outputs": [
    {
     "data": {
      "text/plain": [
       "N    288838\n",
       "Name: hardship_flag, dtype: int64"
      ]
     },
     "execution_count": 125,
     "metadata": {},
     "output_type": "execute_result"
    }
   ],
   "source": [
    "df_new['hardship_flag'].value_counts()"
   ]
  },
  {
   "cell_type": "code",
   "execution_count": 126,
   "metadata": {},
   "outputs": [],
   "source": [
    "df_new.drop('hardship_flag', axis = 1, inplace = True)"
   ]
  },
  {
   "cell_type": "code",
   "execution_count": 127,
   "metadata": {},
   "outputs": [
    {
     "data": {
      "text/plain": [
       "0"
      ]
     },
     "execution_count": 127,
     "metadata": {},
     "output_type": "execute_result"
    }
   ],
   "source": [
    "df_new['debt_settlement_flag'].isnull().sum()"
   ]
  },
  {
   "cell_type": "code",
   "execution_count": 128,
   "metadata": {},
   "outputs": [
    {
     "data": {
      "text/plain": [
       "N    279905\n",
       "Y      8933\n",
       "Name: debt_settlement_flag, dtype: int64"
      ]
     },
     "execution_count": 128,
     "metadata": {},
     "output_type": "execute_result"
    }
   ],
   "source": [
    "df_new['debt_settlement_flag'].value_counts()"
   ]
  },
  {
   "cell_type": "code",
   "execution_count": 129,
   "metadata": {},
   "outputs": [],
   "source": [
    "dbt_flag = pd.get_dummies(df_new['debt_settlement_flag'])"
   ]
  },
  {
   "cell_type": "code",
   "execution_count": 130,
   "metadata": {},
   "outputs": [],
   "source": [
    "df_new = pd.concat([df_new, dbt_flag], axis = 1)"
   ]
  },
  {
   "cell_type": "code",
   "execution_count": 131,
   "metadata": {},
   "outputs": [],
   "source": [
    "df_new.drop('debt_settlement_flag', axis = 1, inplace = True)"
   ]
  },
  {
   "cell_type": "code",
   "execution_count": 132,
   "metadata": {},
   "outputs": [],
   "source": [
    "#Now we finished encoding the object type features."
   ]
  },
  {
   "cell_type": "markdown",
   "metadata": {},
   "source": [
    "## Fill in the missing values of the numerical features"
   ]
  },
  {
   "cell_type": "code",
   "execution_count": 133,
   "metadata": {},
   "outputs": [],
   "source": [
    "col = df_new.columns.values"
   ]
  },
  {
   "cell_type": "code",
   "execution_count": 134,
   "metadata": {},
   "outputs": [],
   "source": [
    "dic = {}\n",
    "for feat in col:\n",
    "    dic[feat] = df_new[feat].isnull().sum()"
   ]
  },
  {
   "cell_type": "code",
   "execution_count": 135,
   "metadata": {},
   "outputs": [
    {
     "data": {
      "text/plain": [
       "{'id': 0,\n",
       " 'loan_amnt': 0,\n",
       " 'funded_amnt': 0,\n",
       " 'funded_amnt_inv': 0,\n",
       " 'int_rate': 0,\n",
       " 'installment': 0,\n",
       " 'grade': 0,\n",
       " 'sub_grade': 0,\n",
       " 'emp_length': 0,\n",
       " 'annual_inc': 0,\n",
       " 'dti': 37,\n",
       " 'delinq_2yrs': 0,\n",
       " 'fico_range_low': 0,\n",
       " 'fico_range_high': 0,\n",
       " 'inq_last_6mths': 0,\n",
       " 'mths_since_last_delinq': 135827,\n",
       " 'mths_since_last_record': 232291,\n",
       " 'open_acc': 0,\n",
       " 'pub_rec': 0,\n",
       " 'revol_bal': 0,\n",
       " 'revol_util': 0,\n",
       " 'total_acc': 0,\n",
       " 'out_prncp': 0,\n",
       " 'out_prncp_inv': 0,\n",
       " 'total_pymnt': 0,\n",
       " 'total_pymnt_inv': 0,\n",
       " 'total_rec_prncp': 0,\n",
       " 'total_rec_int': 0,\n",
       " 'total_rec_late_fee': 0,\n",
       " 'recoveries': 0,\n",
       " 'collection_recovery_fee': 0,\n",
       " 'last_pymnt_amnt': 0,\n",
       " 'last_fico_range_high': 0,\n",
       " 'last_fico_range_low': 0,\n",
       " 'collections_12_mths_ex_med': 0,\n",
       " 'mths_since_last_major_derog': 204000,\n",
       " 'policy_code': 0,\n",
       " 'acc_now_delinq': 0,\n",
       " 'tot_coll_amt': 0,\n",
       " 'tot_cur_bal': 0,\n",
       " 'open_acc_6m': 44,\n",
       " 'open_act_il': 44,\n",
       " 'open_il_12m': 44,\n",
       " 'open_il_24m': 44,\n",
       " 'mths_since_rcnt_il': 8856,\n",
       " 'total_bal_il': 44,\n",
       " 'il_util': 40562,\n",
       " 'open_rv_12m': 44,\n",
       " 'open_rv_24m': 44,\n",
       " 'max_bal_bc': 44,\n",
       " 'all_util': 61,\n",
       " 'total_rev_hi_lim': 0,\n",
       " 'inq_fi': 44,\n",
       " 'total_cu_tl': 44,\n",
       " 'inq_last_12m': 44,\n",
       " 'acc_open_past_24mths': 0,\n",
       " 'avg_cur_bal': 0,\n",
       " 'bc_open_to_buy': 3325,\n",
       " 'bc_util': 3469,\n",
       " 'chargeoff_within_12_mths': 0,\n",
       " 'delinq_amnt': 0,\n",
       " 'mo_sin_old_il_acct': 8817,\n",
       " 'mo_sin_old_rev_tl_op': 0,\n",
       " 'mo_sin_rcnt_rev_tl_op': 0,\n",
       " 'mo_sin_rcnt_tl': 0,\n",
       " 'mort_acc': 0,\n",
       " 'mths_since_recent_bc': 3133,\n",
       " 'mths_since_recent_bc_dlq': 214398,\n",
       " 'mths_since_recent_inq': 30301,\n",
       " 'mths_since_recent_revol_delinq': 183377,\n",
       " 'num_accts_ever_120_pd': 0,\n",
       " 'num_actv_bc_tl': 0,\n",
       " 'num_actv_rev_tl': 0,\n",
       " 'num_bc_sats': 0,\n",
       " 'num_bc_tl': 0,\n",
       " 'num_il_tl': 0,\n",
       " 'num_op_rev_tl': 0,\n",
       " 'num_rev_accts': 0,\n",
       " 'num_rev_tl_bal_gt_0': 0,\n",
       " 'num_sats': 0,\n",
       " 'num_tl_120dpd_2m': 13032,\n",
       " 'num_tl_30dpd': 0,\n",
       " 'num_tl_90g_dpd_24m': 0,\n",
       " 'num_tl_op_past_12m': 0,\n",
       " 'pct_tl_nvr_dlq': 0,\n",
       " 'percent_bc_gt_75': 3349,\n",
       " 'pub_rec_bankruptcies': 0,\n",
       " 'tax_liens': 0,\n",
       " 'tot_hi_cred_lim': 0,\n",
       " 'total_bal_ex_mort': 0,\n",
       " 'total_bc_limit': 0,\n",
       " 'total_il_high_credit_limit': 0,\n",
       " 'issued_mark': 0,\n",
       " 'y': 0,\n",
       " 'emp_title_freq': 0,\n",
       " 'ANY': 0,\n",
       " 'MORTGAGE': 0,\n",
       " 'OWN': 0,\n",
       " 'RENT': 0,\n",
       " 'Not Verified': 0,\n",
       " 'Source Verified': 0,\n",
       " 'Verified': 0,\n",
       " 'purpose_freq': 0,\n",
       " 'title_freq': 0,\n",
       " 'zip_code_freq': 0,\n",
       " 'addr_state_freq': 0,\n",
       " 'earliest_cr_line_len': 0,\n",
       " 'f': 0,\n",
       " 'w': 0,\n",
       " 'months_to_last_pymnt': 0,\n",
       " 'months_to_last_credit_pull': 0,\n",
       " 'Individual': 0,\n",
       " 'Joint App': 0,\n",
       " 'N': 0,\n",
       " 'Y': 0}"
      ]
     },
     "execution_count": 135,
     "metadata": {},
     "output_type": "execute_result"
    }
   ],
   "source": [
    "dic"
   ]
  },
  {
   "cell_type": "code",
   "execution_count": 136,
   "metadata": {},
   "outputs": [
    {
     "data": {
      "text/plain": [
       "13.0     3042\n",
       "7.0      2948\n",
       "12.0     2947\n",
       "6.0      2902\n",
       "9.0      2886\n",
       "         ... \n",
       "109.0       1\n",
       "121.0       1\n",
       "145.0       1\n",
       "125.0       1\n",
       "117.0       1\n",
       "Name: mths_since_last_delinq, Length: 135, dtype: int64"
      ]
     },
     "execution_count": 136,
     "metadata": {},
     "output_type": "execute_result"
    }
   ],
   "source": [
    "df_new['mths_since_last_delinq'].value_counts()"
   ]
  },
  {
   "cell_type": "code",
   "execution_count": 137,
   "metadata": {},
   "outputs": [
    {
     "data": {
      "text/plain": [
       "81.0     1015\n",
       "79.0     1012\n",
       "69.0     1012\n",
       "74.0     1011\n",
       "76.0     1010\n",
       "         ... \n",
       "1.0        34\n",
       "2.0        32\n",
       "0.0         4\n",
       "121.0       2\n",
       "120.0       2\n",
       "Name: mths_since_last_record, Length: 122, dtype: int64"
      ]
     },
     "execution_count": 137,
     "metadata": {},
     "output_type": "execute_result"
    }
   ],
   "source": [
    "df_new['mths_since_last_record'].value_counts()"
   ]
  },
  {
   "cell_type": "code",
   "execution_count": 138,
   "metadata": {},
   "outputs": [
    {
     "data": {
      "text/plain": [
       "43.0     1377\n",
       "40.0     1357\n",
       "44.0     1346\n",
       "38.0     1341\n",
       "46.0     1332\n",
       "         ... \n",
       "192.0       1\n",
       "158.0       1\n",
       "188.0       1\n",
       "148.0       1\n",
       "126.0       1\n",
       "Name: mths_since_last_major_derog, Length: 147, dtype: int64"
      ]
     },
     "execution_count": 138,
     "metadata": {},
     "output_type": "execute_result"
    }
   ],
   "source": [
    "df_new['mths_since_last_major_derog'].value_counts()"
   ]
  },
  {
   "cell_type": "code",
   "execution_count": 139,
   "metadata": {},
   "outputs": [
    {
     "data": {
      "text/plain": [
       "7.0      13474\n",
       "4.0      13042\n",
       "6.0      13010\n",
       "3.0      12853\n",
       "8.0      12801\n",
       "         ...  \n",
       "322.0        1\n",
       "411.0        1\n",
       "315.0        1\n",
       "254.0        1\n",
       "511.0        1\n",
       "Name: mths_since_rcnt_il, Length: 322, dtype: int64"
      ]
     },
     "execution_count": 139,
     "metadata": {},
     "output_type": "execute_result"
    }
   ],
   "source": [
    "df_new['mths_since_rcnt_il'].value_counts()"
   ]
  },
  {
   "cell_type": "code",
   "execution_count": 140,
   "metadata": {},
   "outputs": [],
   "source": [
    "mean_lst = ['mths_since_last_delinq', 'mths_since_last_record', 'mths_since_last_major_derog', \n",
    "            'mths_since_rcnt_il', 'il_util', 'bc_open_to_buy', 'bc_util', 'mo_sin_old_il_acct',\n",
    "            'mths_since_recent_bc', 'mths_since_recent_bc_dlq','mths_since_recent_inq',\n",
    "            'mths_since_recent_revol_delinq', 'num_tl_120dpd_2m', 'percent_bc_gt_75']\n",
    "mode_lst = ['open_acc_6m', 'open_act_il', 'open_il_12m', 'open_il_24m', 'total_bal_il', \n",
    "            'open_rv_12m', 'open_rv_24m', 'max_bal_bc', 'all_util', 'inq_fi', 'total_cu_tl', 'inq_last_12m', 'dti']"
   ]
  },
  {
   "cell_type": "code",
   "execution_count": 141,
   "metadata": {},
   "outputs": [],
   "source": [
    "for feat in mean_lst:\n",
    "    df_new[feat].fillna(df_new[feat].mean(), inplace = True)"
   ]
  },
  {
   "cell_type": "code",
   "execution_count": 142,
   "metadata": {},
   "outputs": [],
   "source": [
    "for feat in mode_lst:\n",
    "    df_new[feat].fillna(df_new[feat].mode()[0], inplace = True)"
   ]
  },
  {
   "cell_type": "code",
   "execution_count": 143,
   "metadata": {},
   "outputs": [],
   "source": [
    "dic1 = {}\n",
    "for feat in col:\n",
    "    dic1[feat] = df_new[feat].isnull().sum()"
   ]
  },
  {
   "cell_type": "code",
   "execution_count": 144,
   "metadata": {},
   "outputs": [
    {
     "data": {
      "text/plain": [
       "{'id': 0,\n",
       " 'loan_amnt': 0,\n",
       " 'funded_amnt': 0,\n",
       " 'funded_amnt_inv': 0,\n",
       " 'int_rate': 0,\n",
       " 'installment': 0,\n",
       " 'grade': 0,\n",
       " 'sub_grade': 0,\n",
       " 'emp_length': 0,\n",
       " 'annual_inc': 0,\n",
       " 'dti': 0,\n",
       " 'delinq_2yrs': 0,\n",
       " 'fico_range_low': 0,\n",
       " 'fico_range_high': 0,\n",
       " 'inq_last_6mths': 0,\n",
       " 'mths_since_last_delinq': 0,\n",
       " 'mths_since_last_record': 0,\n",
       " 'open_acc': 0,\n",
       " 'pub_rec': 0,\n",
       " 'revol_bal': 0,\n",
       " 'revol_util': 0,\n",
       " 'total_acc': 0,\n",
       " 'out_prncp': 0,\n",
       " 'out_prncp_inv': 0,\n",
       " 'total_pymnt': 0,\n",
       " 'total_pymnt_inv': 0,\n",
       " 'total_rec_prncp': 0,\n",
       " 'total_rec_int': 0,\n",
       " 'total_rec_late_fee': 0,\n",
       " 'recoveries': 0,\n",
       " 'collection_recovery_fee': 0,\n",
       " 'last_pymnt_amnt': 0,\n",
       " 'last_fico_range_high': 0,\n",
       " 'last_fico_range_low': 0,\n",
       " 'collections_12_mths_ex_med': 0,\n",
       " 'mths_since_last_major_derog': 0,\n",
       " 'policy_code': 0,\n",
       " 'acc_now_delinq': 0,\n",
       " 'tot_coll_amt': 0,\n",
       " 'tot_cur_bal': 0,\n",
       " 'open_acc_6m': 0,\n",
       " 'open_act_il': 0,\n",
       " 'open_il_12m': 0,\n",
       " 'open_il_24m': 0,\n",
       " 'mths_since_rcnt_il': 0,\n",
       " 'total_bal_il': 0,\n",
       " 'il_util': 0,\n",
       " 'open_rv_12m': 0,\n",
       " 'open_rv_24m': 0,\n",
       " 'max_bal_bc': 0,\n",
       " 'all_util': 0,\n",
       " 'total_rev_hi_lim': 0,\n",
       " 'inq_fi': 0,\n",
       " 'total_cu_tl': 0,\n",
       " 'inq_last_12m': 0,\n",
       " 'acc_open_past_24mths': 0,\n",
       " 'avg_cur_bal': 0,\n",
       " 'bc_open_to_buy': 0,\n",
       " 'bc_util': 0,\n",
       " 'chargeoff_within_12_mths': 0,\n",
       " 'delinq_amnt': 0,\n",
       " 'mo_sin_old_il_acct': 0,\n",
       " 'mo_sin_old_rev_tl_op': 0,\n",
       " 'mo_sin_rcnt_rev_tl_op': 0,\n",
       " 'mo_sin_rcnt_tl': 0,\n",
       " 'mort_acc': 0,\n",
       " 'mths_since_recent_bc': 0,\n",
       " 'mths_since_recent_bc_dlq': 0,\n",
       " 'mths_since_recent_inq': 0,\n",
       " 'mths_since_recent_revol_delinq': 0,\n",
       " 'num_accts_ever_120_pd': 0,\n",
       " 'num_actv_bc_tl': 0,\n",
       " 'num_actv_rev_tl': 0,\n",
       " 'num_bc_sats': 0,\n",
       " 'num_bc_tl': 0,\n",
       " 'num_il_tl': 0,\n",
       " 'num_op_rev_tl': 0,\n",
       " 'num_rev_accts': 0,\n",
       " 'num_rev_tl_bal_gt_0': 0,\n",
       " 'num_sats': 0,\n",
       " 'num_tl_120dpd_2m': 0,\n",
       " 'num_tl_30dpd': 0,\n",
       " 'num_tl_90g_dpd_24m': 0,\n",
       " 'num_tl_op_past_12m': 0,\n",
       " 'pct_tl_nvr_dlq': 0,\n",
       " 'percent_bc_gt_75': 0,\n",
       " 'pub_rec_bankruptcies': 0,\n",
       " 'tax_liens': 0,\n",
       " 'tot_hi_cred_lim': 0,\n",
       " 'total_bal_ex_mort': 0,\n",
       " 'total_bc_limit': 0,\n",
       " 'total_il_high_credit_limit': 0,\n",
       " 'issued_mark': 0,\n",
       " 'y': 0,\n",
       " 'emp_title_freq': 0,\n",
       " 'ANY': 0,\n",
       " 'MORTGAGE': 0,\n",
       " 'OWN': 0,\n",
       " 'RENT': 0,\n",
       " 'Not Verified': 0,\n",
       " 'Source Verified': 0,\n",
       " 'Verified': 0,\n",
       " 'purpose_freq': 0,\n",
       " 'title_freq': 0,\n",
       " 'zip_code_freq': 0,\n",
       " 'addr_state_freq': 0,\n",
       " 'earliest_cr_line_len': 0,\n",
       " 'f': 0,\n",
       " 'w': 0,\n",
       " 'months_to_last_pymnt': 0,\n",
       " 'months_to_last_credit_pull': 0,\n",
       " 'Individual': 0,\n",
       " 'Joint App': 0,\n",
       " 'N': 0,\n",
       " 'Y': 0}"
      ]
     },
     "execution_count": 144,
     "metadata": {},
     "output_type": "execute_result"
    }
   ],
   "source": [
    "dic1"
   ]
  },
  {
   "cell_type": "code",
   "execution_count": 145,
   "metadata": {},
   "outputs": [],
   "source": [
    "#Now there is no longer any missing values."
   ]
  },
  {
   "cell_type": "code",
   "execution_count": 146,
   "metadata": {},
   "outputs": [],
   "source": [
    "#Save the cleaned dataframe for modeling.\n",
    "df_new.to_csv('df_for_modeling.csv', index = False)"
   ]
  },
  {
   "cell_type": "code",
   "execution_count": null,
   "metadata": {},
   "outputs": [],
   "source": []
  }
 ],
 "metadata": {
  "kernelspec": {
   "display_name": "Python 3",
   "language": "python",
   "name": "python3"
  },
  "language_info": {
   "codemirror_mode": {
    "name": "ipython",
    "version": 3
   },
   "file_extension": ".py",
   "mimetype": "text/x-python",
   "name": "python",
   "nbconvert_exporter": "python",
   "pygments_lexer": "ipython3",
   "version": "3.7.6"
  }
 },
 "nbformat": 4,
 "nbformat_minor": 4
}
